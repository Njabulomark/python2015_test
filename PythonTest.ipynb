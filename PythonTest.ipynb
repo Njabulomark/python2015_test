{
 "metadata": {
  "name": "",
  "signature": "sha256:c436ec468c62f83bfdcf3b68e5efdafb3405aad5d559c0177d14631a14152a2a"
 },
 "nbformat": 3,
 "nbformat_minor": 0,
 "worksheets": [
  {
   "cells": [
    {
     "cell_type": "code",
     "collapsed": false,
     "input": [
      "import sys\n",
      "import os\n",
      "import os.path\n",
      "sys.path.append(os.path.join(os.getcwd(), 'lib'))\n",
      "from test import python_test"
     ],
     "language": "python",
     "metadata": {},
     "outputs": [],
     "prompt_number": 2
    },
    {
     "cell_type": "markdown",
     "metadata": {},
     "source": [
      "Please register by putting your name and email address in the `register` line below:"
     ]
    },
    {
     "cell_type": "code",
     "collapsed": false,
     "input": [
      "python_test.register('Njabulo', 'njabulomarkdlamini@gmail.com')"
     ],
     "language": "python",
     "metadata": {},
     "outputs": [
      {
       "metadata": {},
       "output_type": "pyout",
       "prompt_number": 3,
       "text": [
        "'Thank you Njabulo'"
       ]
      }
     ],
     "prompt_number": 3
    },
    {
     "cell_type": "markdown",
     "metadata": {},
     "source": [
      "**(1)** Write a function `multiply(x, y)` that returns the results of multiplying `x` and `y`. I.e. \n",
      "\n",
      "        result = multiply(5, 10)\n",
      "        print result\n",
      " \n",
      " would print `50`.\n",
      " \n",
      " **Marks:** 1"
     ]
    },
    {
     "cell_type": "code",
     "collapsed": false,
     "input": [
      "def multiply(x,y):\n",
      "    total = 1\n",
      "    for number in x,y:\n",
      "        total *= number\n",
      "    return total"
     ],
     "language": "python",
     "metadata": {},
     "outputs": [],
     "prompt_number": 24
    },
    {
     "cell_type": "code",
     "collapsed": false,
     "input": [
      "print multiply(5, 10)"
     ],
     "language": "python",
     "metadata": {},
     "outputs": [
      {
       "output_type": "stream",
       "stream": "stdout",
       "text": [
        "50\n"
       ]
      }
     ],
     "prompt_number": 25
    },
    {
     "cell_type": "code",
     "collapsed": false,
     "input": [
      "python_test.run_test(1, multiply)"
     ],
     "language": "python",
     "metadata": {},
     "outputs": [
      {
       "output_type": "stream",
       "stream": "stdout",
       "text": [
        "Correct\n"
       ]
      }
     ],
     "prompt_number": 79
    },
    {
     "cell_type": "markdown",
     "metadata": {},
     "source": [
      "**(2)** To calculate the product of a list of numbers you multiply them together, so e.g. the product of 1, 2, 3, and 4 is 1 \u00d7 2 \u00d7 3 \u00d7 4, i.e. 24. Write a python function `product_of(thelist)` that returns the product of all the numbers in `thelist`. E.g.\n",
      "\n",
      "        mylist = [1,2,3,4]\n",
      "        result = product_of(mylist)\n",
      "        print result\n",
      "        \n",
      "would print `24`.\n",
      "\n",
      "**Marks:** 3"
     ]
    },
    {
     "cell_type": "code",
     "collapsed": false,
     "input": [
      "def product_of(mylist):\n",
      "    total = 1\n",
      "    for i in mylist:\n",
      "        i = float(i)\n",
      "        total = total * i\n",
      "    return total "
     ],
     "language": "python",
     "metadata": {},
     "outputs": [],
     "prompt_number": 76
    },
    {
     "cell_type": "code",
     "collapsed": false,
     "input": [
      "print product_of([1,2,3,4])"
     ],
     "language": "python",
     "metadata": {},
     "outputs": [
      {
       "output_type": "stream",
       "stream": "stdout",
       "text": [
        "24.0\n"
       ]
      }
     ],
     "prompt_number": 77
    },
    {
     "cell_type": "code",
     "collapsed": false,
     "input": [
      "python_test.run_test(2, product_of)"
     ],
     "language": "python",
     "metadata": {},
     "outputs": [
      {
       "output_type": "stream",
       "stream": "stdout",
       "text": [
        "Correct\n"
       ]
      }
     ],
     "prompt_number": 78
    },
    {
     "cell_type": "markdown",
     "metadata": {},
     "source": [
      "**(3)** The molecular weight (in g/mol) of a strand of (synthesised) single-stranded DNA can be computed by adding together the weights of the individual bases and then subtracting 61.96. The individual bases have these weights:\n",
      "\n",
      "        Adenine  313.2\n",
      "        Thymine  304.2\n",
      "        Cytosine 289.2\n",
      "        Guanine  329.2\n",
      "\n",
      "So for example the molecular weight of the string `GATACCA` is 2089.44. Write a function `mol_weight(dna_str)` that computes the molecular weight of strand of DNA. E.g. \n",
      "\n",
      "        weight = mol_weight('GATACCA')\n",
      "        print weight\n",
      "\n",
      "would print 2089.44.\n",
      "\n",
      "**Marks:** 5"
     ]
    },
    {
     "cell_type": "code",
     "collapsed": false,
     "input": [
      "def compute(dna_str):\n",
      "    mol_weight = ((\"A = 313.2\"), (\"T = 304.2\"), (\"C = 289.2\"), (\"G = 329.2\"))\n",
      "    A = 313.2\n",
      "    T = 304.2\n",
      "    C = 289.2\n",
      "    G = 329.2\n",
      "    print mol_weight\n",
      "    total = 0\n",
      "    for number in mol_weight:\n",
      "        total += float(number)\n",
      "    return total"
     ],
     "language": "python",
     "metadata": {},
     "outputs": [],
     "prompt_number": 98
    },
    {
     "cell_type": "code",
     "collapsed": false,
     "input": [
      "print compute('GATACCA')"
     ],
     "language": "python",
     "metadata": {},
     "outputs": [
      {
       "output_type": "stream",
       "stream": "stdout",
       "text": [
        "('A = 313.2', 'T = 304.2', 'C = 289.2', 'G = 329.2')\n"
       ]
      },
      {
       "ename": "ValueError",
       "evalue": "could not convert string to float: A = 313.2",
       "output_type": "pyerr",
       "traceback": [
        "\u001b[1;31m---------------------------------------------------------------------------\u001b[0m\n\u001b[1;31mValueError\u001b[0m                                Traceback (most recent call last)",
        "\u001b[1;32m<ipython-input-99-83a6940de102>\u001b[0m in \u001b[0;36m<module>\u001b[1;34m()\u001b[0m\n\u001b[1;32m----> 1\u001b[1;33m \u001b[1;32mprint\u001b[0m \u001b[0mcompute\u001b[0m\u001b[1;33m(\u001b[0m\u001b[1;34m'GATACCA'\u001b[0m\u001b[1;33m)\u001b[0m\u001b[1;33m\u001b[0m\u001b[0m\n\u001b[0m",
        "\u001b[1;32m<ipython-input-98-787f9c7f545e>\u001b[0m in \u001b[0;36mcompute\u001b[1;34m(dna_str)\u001b[0m\n\u001b[0;32m      8\u001b[0m     \u001b[0mtotal\u001b[0m \u001b[1;33m=\u001b[0m \u001b[1;36m0\u001b[0m\u001b[1;33m\u001b[0m\u001b[0m\n\u001b[0;32m      9\u001b[0m     \u001b[1;32mfor\u001b[0m \u001b[0mnumber\u001b[0m \u001b[1;32min\u001b[0m \u001b[0mmol_weight\u001b[0m\u001b[1;33m:\u001b[0m\u001b[1;33m\u001b[0m\u001b[0m\n\u001b[1;32m---> 10\u001b[1;33m         \u001b[0mtotal\u001b[0m \u001b[1;33m+=\u001b[0m \u001b[0mfloat\u001b[0m\u001b[1;33m(\u001b[0m\u001b[0mnumber\u001b[0m\u001b[1;33m)\u001b[0m\u001b[1;33m\u001b[0m\u001b[0m\n\u001b[0m\u001b[0;32m     11\u001b[0m     \u001b[1;32mreturn\u001b[0m \u001b[0mtotal\u001b[0m\u001b[1;33m\u001b[0m\u001b[0m\n",
        "\u001b[1;31mValueError\u001b[0m: could not convert string to float: A = 313.2"
       ]
      }
     ],
     "prompt_number": 99
    },
    {
     "cell_type": "code",
     "collapsed": false,
     "input": [
      "pwd"
     ],
     "language": "python",
     "metadata": {},
     "outputs": [
      {
       "metadata": {},
       "output_type": "pyout",
       "prompt_number": 104,
       "text": [
        "u'/home/user/python2015_test'"
       ]
      }
     ],
     "prompt_number": 104
    },
    {
     "cell_type": "code",
     "collapsed": false,
     "input": [],
     "language": "python",
     "metadata": {},
     "outputs": []
    },
    {
     "cell_type": "code",
     "collapsed": false,
     "input": [
      "python_test.run_test(3, mol_weight)"
     ],
     "language": "python",
     "metadata": {},
     "outputs": []
    },
    {
     "cell_type": "markdown",
     "metadata": {},
     "source": [
      "**(4)** Write a function `longest_line(filename)` that returns the longest line in the file named by `filename`. E.g. if a file `myfile.txt` contained the following lines:\n",
      "\n",
      "        *****************\n",
      "        ***********\n",
      "        ***\n",
      "        ************************\n",
      "\n",
      "then\n",
      "\n",
      "        line = longest_line('myfile.txt')\n",
      "        print line\n",
      "\n",
      "would print\n",
      "\n",
      "        ************************\n",
      "\n",
      "You can test your function using the file `sample.txt`.\n",
      "        \n",
      "**Marks:** 5     "
     ]
    },
    {
     "cell_type": "code",
     "collapsed": false,
     "input": [
      "import sys\n",
      "import os\n",
      "\n",
      "def longest_line(filename):\n",
      "    filename = 'myfile.txt'\n",
      "    input_file = open(filename)\n",
      "    cntWord = 0\n",
      "    length_of_Word = 0\n",
      "    length = 0\n",
      "    cntChar = 0\n",
      "    line_count = 0\n",
      "    for line in input_file.read().split():\n",
      "        line = line.rstrip()\n",
      "        line_count = len(line) + 1\n",
      "        if len(line) > length_of_Word:\n",
      "            length_of_Word = len(line)\n",
      "        cntWord += 1\n",
      "        if len(open(filename).read())> length:\n",
      "            length = len(open(filename).read())\n",
      "            for char in range (0, length):\n",
      "                cntChar = char + 1\n",
      "    return line_count, cntWord,cntChar"
     ],
     "language": "python",
     "metadata": {},
     "outputs": [],
     "prompt_number": 107
    },
    {
     "cell_type": "code",
     "collapsed": false,
     "input": [
      "print longest_line('myfile.txt')"
     ],
     "language": "python",
     "metadata": {},
     "outputs": [
      {
       "output_type": "stream",
       "stream": "stdout",
       "text": [
        "(25, 4, 74)\n"
       ]
      }
     ],
     "prompt_number": 110
    },
    {
     "cell_type": "code",
     "collapsed": false,
     "input": [
      "python_test.run_test(4, longest_line)"
     ],
     "language": "python",
     "metadata": {},
     "outputs": [
      {
       "output_type": "stream",
       "stream": "stdout",
       "text": [
        "Incorrect\n"
       ]
      }
     ],
     "prompt_number": 111
    },
    {
     "cell_type": "markdown",
     "metadata": {},
     "source": [
      "**(5)** Consider a file that contains protein names, with one name per line. Here is a sample of the file:\n",
      "\n",
      "        COL1A1\n",
      "        MED12\n",
      "        IREB2\n",
      "        GDF9\n",
      "        RXRG\n",
      "        CBFB\n",
      "        IREB2\n",
      "        TUBB\n",
      "\n",
      "\n",
      "Write a function `deduplicate(filename)` that reads in a file like this (one is provided as `names.txt`) and returns a unique list of names. If `names.txt` contained only the above example, then:\n",
      "\n",
      "        unique_names = deduplicate('names.txt')\n",
      "        print unique_names\n",
      "\n",
      "should print:\n",
      "\n",
      "        ['CBFB', 'COL1A1', 'GDF9', 'IREB2', 'MED12', 'RXRG', 'TUBB']\n",
      "        \n",
      "(The order of the names isn't important)\n",
      "\n",
      "**Marks:** 6"
     ]
    },
    {
     "cell_type": "code",
     "collapsed": false,
     "input": [
      "python_test.run_test(5, deduplicate)"
     ],
     "language": "python",
     "metadata": {},
     "outputs": []
    },
    {
     "cell_type": "markdown",
     "metadata": {},
     "source": [
      "**(6)** The following code is a script that is intended to count how many times a protein name occurs in a file (you can use `names.txt` as the sample file). The script (with bugs) can be found in `bin/count_name.py` and is executable. The code has errors. Correct them:\n",
      "\n",
      "````\n",
      "#!/usr/bin/eenv python\n",
      "\n",
      "import sys\n",
      "\n",
      "def count_name(filename, protein_name):\n",
      "    input_file = open(sys.argv[1])\n",
      "    count = 0\n",
      "    for line in input_file:\n",
      "        if line.rstrip() == protein_name:\n",
      "            count += 1\n",
      "    return count\n",
      "\n",
      "if len(sys.argv) != 3:\n",
      "    sys.exit(\"Usage: count_name.py <protein names file> <protein name>\")\n",
      "\n",
      "filename = sys.argv[0]\n",
      "protein_name = sys.argv[1]\n",
      "name_count = count_name(filename, protein_name)\n",
      "print protein_name, name_count\n",
      "````\n",
      "\n",
      "**Marks:** 4\n"
     ]
    },
    {
     "cell_type": "code",
     "collapsed": false,
     "input": [
      "python_test.run_test(6, None)"
     ],
     "language": "python",
     "metadata": {},
     "outputs": []
    },
    {
     "cell_type": "code",
     "collapsed": false,
     "input": [
      "print \"Total marks available:\", python_test.max_marks()"
     ],
     "language": "python",
     "metadata": {},
     "outputs": [
      {
       "output_type": "stream",
       "stream": "stdout",
       "text": [
        "Total marks available: 25\n"
       ]
      }
     ],
     "prompt_number": 2
    },
    {
     "cell_type": "code",
     "collapsed": false,
     "input": [],
     "language": "python",
     "metadata": {},
     "outputs": []
    }
   ],
   "metadata": {}
  }
 ]
}